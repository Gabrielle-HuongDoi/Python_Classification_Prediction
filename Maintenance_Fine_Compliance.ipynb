{
 "cells": [
  {
   "cell_type": "markdown",
   "metadata": {
    "collapsed": true
   },
   "source": [
    "# Predicting The Compliance of Property Maintenance Fines"
   ]
  },
  {
   "cell_type": "markdown",
   "metadata": {},
   "source": [
    "## 1. Understanding the dataset"
   ]
  },
  {
   "cell_type": "code",
   "execution_count": 1,
   "metadata": {
    "collapsed": true
   },
   "outputs": [],
   "source": [
    "import pandas as pd\n",
    "import numpy as np"
   ]
  },
  {
   "cell_type": "code",
   "execution_count": 2,
   "metadata": {
    "collapsed": false
   },
   "outputs": [
    {
     "name": "stdout",
     "output_type": "stream",
     "text": [
      "The table size is (250306, 34)\n"
     ]
    },
    {
     "name": "stderr",
     "output_type": "stream",
     "text": [
      "/opt/conda/lib/python3.6/site-packages/IPython/core/interactiveshell.py:2717: DtypeWarning: Columns (11,12,31) have mixed types. Specify dtype option on import or set low_memory=False.\n",
      "  interactivity=interactivity, compiler=compiler, result=result)\n"
     ]
    },
    {
     "data": {
      "text/html": [
       "<div>\n",
       "<table border=\"1\" class=\"dataframe\">\n",
       "  <thead>\n",
       "    <tr style=\"text-align: right;\">\n",
       "      <th></th>\n",
       "      <th>ticket_id</th>\n",
       "      <th>agency_name</th>\n",
       "      <th>inspector_name</th>\n",
       "      <th>violator_name</th>\n",
       "      <th>violation_street_number</th>\n",
       "      <th>violation_street_name</th>\n",
       "      <th>violation_zip_code</th>\n",
       "      <th>mailing_address_str_number</th>\n",
       "      <th>mailing_address_str_name</th>\n",
       "      <th>city</th>\n",
       "      <th>...</th>\n",
       "      <th>clean_up_cost</th>\n",
       "      <th>judgment_amount</th>\n",
       "      <th>payment_amount</th>\n",
       "      <th>balance_due</th>\n",
       "      <th>payment_date</th>\n",
       "      <th>payment_status</th>\n",
       "      <th>collection_status</th>\n",
       "      <th>grafitti_status</th>\n",
       "      <th>compliance_detail</th>\n",
       "      <th>compliance</th>\n",
       "    </tr>\n",
       "  </thead>\n",
       "  <tbody>\n",
       "    <tr>\n",
       "      <th>0</th>\n",
       "      <td>22056</td>\n",
       "      <td>Buildings, Safety Engineering &amp; Env Department</td>\n",
       "      <td>Sims, Martinzie</td>\n",
       "      <td>INVESTMENT INC., MIDWEST MORTGAGE</td>\n",
       "      <td>2900.0</td>\n",
       "      <td>TYLER</td>\n",
       "      <td>NaN</td>\n",
       "      <td>3.0</td>\n",
       "      <td>S. WICKER</td>\n",
       "      <td>CHICAGO</td>\n",
       "      <td>...</td>\n",
       "      <td>0.0</td>\n",
       "      <td>305.0</td>\n",
       "      <td>0.0</td>\n",
       "      <td>305.0</td>\n",
       "      <td>NaN</td>\n",
       "      <td>NO PAYMENT APPLIED</td>\n",
       "      <td>NaN</td>\n",
       "      <td>NaN</td>\n",
       "      <td>non-compliant by no payment</td>\n",
       "      <td>0.0</td>\n",
       "    </tr>\n",
       "    <tr>\n",
       "      <th>1</th>\n",
       "      <td>27586</td>\n",
       "      <td>Buildings, Safety Engineering &amp; Env Department</td>\n",
       "      <td>Williams, Darrin</td>\n",
       "      <td>Michigan, Covenant House</td>\n",
       "      <td>4311.0</td>\n",
       "      <td>CENTRAL</td>\n",
       "      <td>NaN</td>\n",
       "      <td>2959.0</td>\n",
       "      <td>Martin Luther King</td>\n",
       "      <td>Detroit</td>\n",
       "      <td>...</td>\n",
       "      <td>0.0</td>\n",
       "      <td>855.0</td>\n",
       "      <td>780.0</td>\n",
       "      <td>75.0</td>\n",
       "      <td>2005-06-02 00:00:00</td>\n",
       "      <td>PAID IN FULL</td>\n",
       "      <td>NaN</td>\n",
       "      <td>NaN</td>\n",
       "      <td>compliant by late payment within 1 month</td>\n",
       "      <td>1.0</td>\n",
       "    </tr>\n",
       "    <tr>\n",
       "      <th>2</th>\n",
       "      <td>22062</td>\n",
       "      <td>Buildings, Safety Engineering &amp; Env Department</td>\n",
       "      <td>Sims, Martinzie</td>\n",
       "      <td>SANDERS, DERRON</td>\n",
       "      <td>1449.0</td>\n",
       "      <td>LONGFELLOW</td>\n",
       "      <td>NaN</td>\n",
       "      <td>23658.0</td>\n",
       "      <td>P.O. BOX</td>\n",
       "      <td>DETROIT</td>\n",
       "      <td>...</td>\n",
       "      <td>0.0</td>\n",
       "      <td>0.0</td>\n",
       "      <td>0.0</td>\n",
       "      <td>0.0</td>\n",
       "      <td>NaN</td>\n",
       "      <td>NO PAYMENT APPLIED</td>\n",
       "      <td>NaN</td>\n",
       "      <td>NaN</td>\n",
       "      <td>not responsible by disposition</td>\n",
       "      <td>NaN</td>\n",
       "    </tr>\n",
       "    <tr>\n",
       "      <th>3</th>\n",
       "      <td>22084</td>\n",
       "      <td>Buildings, Safety Engineering &amp; Env Department</td>\n",
       "      <td>Sims, Martinzie</td>\n",
       "      <td>MOROSI, MIKE</td>\n",
       "      <td>1441.0</td>\n",
       "      <td>LONGFELLOW</td>\n",
       "      <td>NaN</td>\n",
       "      <td>5.0</td>\n",
       "      <td>ST. CLAIR</td>\n",
       "      <td>DETROIT</td>\n",
       "      <td>...</td>\n",
       "      <td>0.0</td>\n",
       "      <td>0.0</td>\n",
       "      <td>0.0</td>\n",
       "      <td>0.0</td>\n",
       "      <td>NaN</td>\n",
       "      <td>NO PAYMENT APPLIED</td>\n",
       "      <td>NaN</td>\n",
       "      <td>NaN</td>\n",
       "      <td>not responsible by disposition</td>\n",
       "      <td>NaN</td>\n",
       "    </tr>\n",
       "    <tr>\n",
       "      <th>4</th>\n",
       "      <td>22093</td>\n",
       "      <td>Buildings, Safety Engineering &amp; Env Department</td>\n",
       "      <td>Sims, Martinzie</td>\n",
       "      <td>NATHANIEL, NEAL</td>\n",
       "      <td>2449.0</td>\n",
       "      <td>CHURCHILL</td>\n",
       "      <td>NaN</td>\n",
       "      <td>7449.0</td>\n",
       "      <td>CHURCHILL</td>\n",
       "      <td>DETROIT</td>\n",
       "      <td>...</td>\n",
       "      <td>0.0</td>\n",
       "      <td>0.0</td>\n",
       "      <td>0.0</td>\n",
       "      <td>0.0</td>\n",
       "      <td>NaN</td>\n",
       "      <td>NO PAYMENT APPLIED</td>\n",
       "      <td>NaN</td>\n",
       "      <td>NaN</td>\n",
       "      <td>not responsible by disposition</td>\n",
       "      <td>NaN</td>\n",
       "    </tr>\n",
       "  </tbody>\n",
       "</table>\n",
       "<p>5 rows × 34 columns</p>\n",
       "</div>"
      ],
      "text/plain": [
       "   ticket_id                                     agency_name  \\\n",
       "0      22056  Buildings, Safety Engineering & Env Department   \n",
       "1      27586  Buildings, Safety Engineering & Env Department   \n",
       "2      22062  Buildings, Safety Engineering & Env Department   \n",
       "3      22084  Buildings, Safety Engineering & Env Department   \n",
       "4      22093  Buildings, Safety Engineering & Env Department   \n",
       "\n",
       "     inspector_name                      violator_name  \\\n",
       "0   Sims, Martinzie  INVESTMENT INC., MIDWEST MORTGAGE   \n",
       "1  Williams, Darrin           Michigan, Covenant House   \n",
       "2   Sims, Martinzie                    SANDERS, DERRON   \n",
       "3   Sims, Martinzie                       MOROSI, MIKE   \n",
       "4   Sims, Martinzie                    NATHANIEL, NEAL   \n",
       "\n",
       "   violation_street_number violation_street_name  violation_zip_code  \\\n",
       "0                   2900.0                 TYLER                 NaN   \n",
       "1                   4311.0               CENTRAL                 NaN   \n",
       "2                   1449.0            LONGFELLOW                 NaN   \n",
       "3                   1441.0            LONGFELLOW                 NaN   \n",
       "4                   2449.0             CHURCHILL                 NaN   \n",
       "\n",
       "   mailing_address_str_number mailing_address_str_name     city     ...      \\\n",
       "0                         3.0                S. WICKER  CHICAGO     ...       \n",
       "1                      2959.0       Martin Luther King  Detroit     ...       \n",
       "2                     23658.0                 P.O. BOX  DETROIT     ...       \n",
       "3                         5.0                ST. CLAIR  DETROIT     ...       \n",
       "4                      7449.0                CHURCHILL  DETROIT     ...       \n",
       "\n",
       "  clean_up_cost judgment_amount payment_amount balance_due  \\\n",
       "0           0.0           305.0            0.0       305.0   \n",
       "1           0.0           855.0          780.0        75.0   \n",
       "2           0.0             0.0            0.0         0.0   \n",
       "3           0.0             0.0            0.0         0.0   \n",
       "4           0.0             0.0            0.0         0.0   \n",
       "\n",
       "          payment_date      payment_status collection_status grafitti_status  \\\n",
       "0                  NaN  NO PAYMENT APPLIED               NaN             NaN   \n",
       "1  2005-06-02 00:00:00        PAID IN FULL               NaN             NaN   \n",
       "2                  NaN  NO PAYMENT APPLIED               NaN             NaN   \n",
       "3                  NaN  NO PAYMENT APPLIED               NaN             NaN   \n",
       "4                  NaN  NO PAYMENT APPLIED               NaN             NaN   \n",
       "\n",
       "                          compliance_detail  compliance  \n",
       "0               non-compliant by no payment         0.0  \n",
       "1  compliant by late payment within 1 month         1.0  \n",
       "2            not responsible by disposition         NaN  \n",
       "3            not responsible by disposition         NaN  \n",
       "4            not responsible by disposition         NaN  \n",
       "\n",
       "[5 rows x 34 columns]"
      ]
     },
     "execution_count": 2,
     "metadata": {},
     "output_type": "execute_result"
    }
   ],
   "source": [
    "## let's check the dataset\n",
    "df = pd.read_csv('train.csv', encoding = 'latin1')\n",
    "print('The table size is ({}, {})'.format(df.shape[0], df.shape[1]))\n",
    "df.head(5)"
   ]
  },
  {
   "cell_type": "markdown",
   "metadata": {},
   "source": [
    "There are 250306 rows and 34 columns in the dataset. Each row corresponds to single blight ticket, including where, when, to whom and the compliance. The target variable is compliance which is 1 if the fine was paid early, on time or within a month of the hearing data, 0 if the ticket was paid later or not paid at all and Null if the violator was found not responsible.\n",
    "<br>\n",
    "<br>\n",
    "More detail as below:\n",
    "\n",
    "\n",
    "***The blight ticket***: ticket_id, agency_name, inspector_name, ticket_issued_date, hearing_date\n",
    "\n",
    "\n",
    "***The violation detail***: violator_name, violation_street_number, violation_street_name, violation_zip_code, violation_code, violation_description\n",
    "\n",
    "\n",
    "***The violator contact***: mailing_address_str_number, mailing_address_str_name, city, state, zip_code, non_us_str_code, country\n",
    "\n",
    "\n",
    "***The fine amount***: fine_amount, admin_fee, state_fee, late_fee, discount_amount, clean_up_cost, judgment_amount, grafitti_status\n",
    "\n",
    "\n",
    "***Payment and Compliance***: payment_amount, balance_due, payment_date, payment_status, collection_status, compliance_detail, compliance\n",
    "    "
   ]
  },
  {
   "cell_type": "markdown",
   "metadata": {},
   "source": [
    "### Important factors\n",
    "\n",
    "There are too many variables which are not neccesary to model the prediction. Not only do they cost the time and resources, but also slow down the running process. Thus, we should only pick up some important factors that might affect the compliance statement. \n",
    "\n",
    "First of all, let's consider these columns: \n",
    "    - ticket_id: unique identifier for tickets \n",
    "    - violation_code: type of violation\n",
    "    - late_fee: 10% fee assigned to responsible judgments\n",
    "    - discount_amount: discount applied, if any\n",
    "    - judgment_amount: sum of all fines and fees compliance\n",
    "\n",
    "late_fee is applied when the payment is late, so if a violator had realized to pay more, probably they would have denied the compliance. Similarly, violator might pay the fine if they got the discount."
   ]
  },
  {
   "cell_type": "markdown",
   "metadata": {
    "collapsed": true
   },
   "source": [
    "## 2. Model prediction"
   ]
  },
  {
   "cell_type": "code",
   "execution_count": 4,
   "metadata": {
    "collapsed": true
   },
   "outputs": [],
   "source": [
    "from sklearn.preprocessing import LabelEncoder\n",
    "from sklearn.ensemble import GradientBoostingClassifier\n",
    "from sklearn.model_selection import train_test_split, GridSearchCV\n",
    "from sklearn.metrics import roc_auc_score, roc_curve, auc\n",
    "from sklearn.metrics import accuracy_score"
   ]
  },
  {
   "cell_type": "markdown",
   "metadata": {},
   "source": [
    "### Preparing the data\n",
    "\n",
    "Actually, we can find that the data is not balanced because the number of non-compliance is much greater the compliance one. Thus, the evaluation by accuracy score might not be a good option."
   ]
  },
  {
   "cell_type": "code",
   "execution_count": 6,
   "metadata": {
    "collapsed": false
   },
   "outputs": [
    {
     "name": "stdout",
     "output_type": "stream",
     "text": [
      "The data is imbalanced\n",
      "0 148283\n",
      "1 11597\n"
     ]
    }
   ],
   "source": [
    "# Feature columns:\n",
    "cols = ['ticket_id', 'violation_code', 'late_fee', 'discount_amount', 'judgment_amount', 'compliance']\n",
    "train = df[cols].copy()\n",
    "label_encoder = LabelEncoder()\n",
    "for col in train.columns[train.dtypes == \"object\"]:\n",
    "    train[col] = label_encoder.fit_transform(train[col])\n",
    "\n",
    "# Consider only non-compliance or compliance\n",
    "train = train[(train['compliance'] == 0) | (train['compliance'] == 1)]\n",
    "X = train.iloc[:, :-1]\n",
    "y = train.iloc[:, -1].astype(int)\n",
    "\n",
    "print('The data is imbalanced')\n",
    "for class_name, class_count in zip(y, np.bincount(y)):\n",
    "    print(class_name,class_count)\n"
   ]
  },
  {
   "cell_type": "markdown",
   "metadata": {},
   "source": [
    "### Modeling\n",
    "\n",
    "#### 2.1. Gradient Boosting Classifier"
   ]
  },
  {
   "cell_type": "code",
   "execution_count": 7,
   "metadata": {
    "collapsed": false
   },
   "outputs": [
    {
     "name": "stdout",
     "output_type": "stream",
     "text": [
      "Model best parameter (max. AUC):  {'learning_rate': 0.1, 'max_depth': 5}\n",
      "ROC-AUC score of GB classifier on test set:  0.798345919618\n",
      "Accuracy score of GB classifier on test set:  0.935901926445\n"
     ]
    }
   ],
   "source": [
    "X_train, X_test, y_train, y_test = train_test_split(X, y, random_state = 0)\n",
    "\n",
    "clf = GradientBoostingClassifier()\n",
    "grid_value = {'learning_rate': [0.01, 0.1, 0.25, 0.5], 'max_depth': [3, 4, 5]}\n",
    "best_clf = GridSearchCV(clf, param_grid = grid_value, scoring = 'roc_auc')\n",
    "best_clf.fit(X_train, y_train)\n",
    "y_predicted = best_clf.predict(X_test)\n",
    "\n",
    "print('Model best parameter (max. AUC): ', best_clf.best_params_)\n",
    "print('ROC-AUC score of GB classifier on test set: ', best_clf.best_score_)\n",
    "print('Accuracy score of GB classifier on test set: ', accuracy_score(y_test, y_predicted))"
   ]
  },
  {
   "cell_type": "markdown",
   "metadata": {},
   "source": [
    "The best parameters are learning_rate of 0.1 and max_depth of 5. However as we explained, the data is not balanced, the accuracy rate is much higher the ROC-AUC score, yet less reliable."
   ]
  },
  {
   "cell_type": "markdown",
   "metadata": {},
   "source": [
    "####  2.2. Random forest classification"
   ]
  },
  {
   "cell_type": "code",
   "execution_count": 21,
   "metadata": {
    "collapsed": false
   },
   "outputs": [
    {
     "name": "stdout",
     "output_type": "stream",
     "text": [
      "Accuracy of RF classifier on training set:  0.986439829872\n",
      "Accuracy of RF classifier on test set:  0.907330497873\n",
      "ROC-AUC score of RF classifier on test set:  0.680550098417\n"
     ]
    }
   ],
   "source": [
    "from sklearn.svm import SVC\n",
    "from sklearn.model_selection import train_test_split\n",
    "from sklearn.metrics import roc_auc_score\n",
    "from sklearn.ensemble import RandomForestClassifier\n",
    "\n",
    "X_train, X_test, y_train, y_test = train_test_split(X, y, random_state = 0)\n",
    "clf = RandomForestClassifier(random_state = 0)\n",
    "clf.fit(X_train, y_train)\n",
    "y_predict = clf.predict_proba(X_test)[:, 1]\n",
    "\n",
    "print('Accuracy of RF classifier on training set: ', clf.score(X_train, y_train))\n",
    "print('Accuracy of RF classifier on test set: ', clf.score(X_test, y_test))\n",
    "print('ROC-AUC score of RF classifier on test set: ', roc_auc_score(y_test, y_predict))\n"
   ]
  },
  {
   "cell_type": "markdown",
   "metadata": {},
   "source": [
    "Again, the accuracy rate is much higher than the ROC-AUC score. When compare to the Gradient Boosting classifier, both scores are lower."
   ]
  },
  {
   "cell_type": "markdown",
   "metadata": {
    "collapsed": true
   },
   "source": [
    "#### 2.3. Support Vector Machines\n",
    "\n",
    "In order to execute the SVM, we firstly choose a sample from the data because the data set is a bit large that can slowdown the running process. I keep the sample size of 10%, 25% and 50%"
   ]
  },
  {
   "cell_type": "code",
   "execution_count": 8,
   "metadata": {
    "collapsed": false
   },
   "outputs": [
    {
     "data": {
      "text/plain": [
       "array([37078,  2892])"
      ]
     },
     "execution_count": 8,
     "metadata": {},
     "output_type": "execute_result"
    }
   ],
   "source": [
    "# Take the sample of 25% population\n",
    "train_svm = train.sample(frac = .25, random_state = 0)\n",
    "X = train_svm.iloc[:, :-1]\n",
    "y = train_svm.iloc[:, -1].astype(int)\n",
    "np.bincount(y)"
   ]
  },
  {
   "cell_type": "code",
   "execution_count": 21,
   "metadata": {
    "collapsed": false,
    "scrolled": true
   },
   "outputs": [
    {
     "name": "stdout",
     "output_type": "stream",
     "text": [
      "Model best parameter (max. AUC):  {'gamma': 0.05}\n",
      "ROC-AUC of SVC on test set:  0.614495769704\n",
      "Accuracy score of SVC on test set:  0.923946762734\n"
     ]
    }
   ],
   "source": [
    "from sklearn.svm import SVC\n",
    "from sklearn.model_selection import train_test_split\n",
    "from sklearn.model_selection import GridSearchCV\n",
    "from sklearn.metrics import roc_auc_score\n",
    "\n",
    "X_train, X_test, y_train, y_test = train_test_split(X, y, random_state = 0)\n",
    "clf = SVC()\n",
    "grid_values = {'gamma': [0.01, 0.05, 0.1, 1]}\n",
    "grid_clf_acc = GridSearchCV(clf, param_grid = grid_values, scoring = 'roc_auc')\n",
    "grid_clf_acc.fit(X_train, y_train)\n",
    "y_predicted = grid_clf_acc.predict(X_test)\n",
    "\n",
    "print('Model best parameter (max. AUC): ', grid_clf_acc.best_params_)\n",
    "print('ROC-AUC of SVC on test set: ', grid_clf_acc.score(X_test, y_test))\n",
    "print('Accuracy score of SVC on test set: ', accuracy_score(y_test, y_predicted))"
   ]
  },
  {
   "cell_type": "markdown",
   "metadata": {},
   "source": [
    "It seems that SVM is not a good model to predict the fine compliance because its ROC-AUC is the lowest among 3 models. I have tried the sample size of 10%, the the ROC-AUC is 0.58068 while the accuracy score is approzimately the same (0.923942)"
   ]
  },
  {
   "cell_type": "code",
   "execution_count": 26,
   "metadata": {
    "collapsed": false
   },
   "outputs": [
    {
     "name": "stdout",
     "output_type": "stream",
     "text": [
      "ROC-AUC of SVC on test set:  0.641332873285\n",
      "Accuracy score of SVC on test set:  0.926795096322\n"
     ]
    }
   ],
   "source": [
    "## Let's try 50% of sample size\n",
    "\n",
    "train_svm = train.sample(frac = .50, random_state = 0)\n",
    "X = train_svm.iloc[:, :-1]\n",
    "y = train_svm.iloc[:, -1]\n",
    "\n",
    "X_train, X_test, y_train, y_test = train_test_split(X, y, random_state = 0)\n",
    "clf = SVC(kernel = 'rbf', gamma = 0.05)\n",
    "clf.fit(X_train, y_train)\n",
    "\n",
    "y_decision_fn = clf.decision_function(X_test)\n",
    "fpr_svm, tpr_svm, _ = roc_curve(y_test, y_decision_fn)\n",
    "roc_auc_svm = auc(fpr_svm, tpr_svm)\n",
    "\n",
    "print('ROC-AUC of SVC on test set: ', roc_auc_svm)\n",
    "print('Accuracy score of SVC on test set: ', clf.score(X_test, y_test))"
   ]
  },
  {
   "cell_type": "markdown",
   "metadata": {},
   "source": [
    "Indeed, the ROC-AUC score increases when the sample size increases. Yet the running time is 4 or even 5 times longer than the 25% dataset needs. Moreover, the results are not better than 2 other classifications. "
   ]
  },
  {
   "cell_type": "markdown",
   "metadata": {
    "collapsed": true
   },
   "source": [
    "### Additional features\n",
    "\n",
    "Some might consider that the time gap between the ticket issued date and hearing date can affect the possibility of the paid fines. We keep the Gradient Boosting Classifier but add more features to evaluate if the ROC-AUC significantly improves."
   ]
  },
  {
   "cell_type": "code",
   "execution_count": 18,
   "metadata": {
    "collapsed": false
   },
   "outputs": [
    {
     "data": {
      "text/plain": [
       "time_gap  compliance\n",
       "0         0.0             14\n",
       "1         0.0              5\n",
       "2         0.0              8\n",
       "3         0.0              8\n",
       "4         0.0             25\n",
       "5         0.0             31\n",
       "6         0.0             48\n",
       "          1.0              2\n",
       "7         0.0             93\n",
       "8         0.0             86\n",
       "          1.0              7\n",
       "9         0.0             89\n",
       "          1.0              4\n",
       "10        0.0            101\n",
       "          1.0              7\n",
       "11        0.0            112\n",
       "          1.0              3\n",
       "12        0.0            177\n",
       "          1.0             15\n",
       "13        0.0            405\n",
       "          1.0             36\n",
       "14        0.0            748\n",
       "          1.0             77\n",
       "15        0.0           1273\n",
       "          1.0            116\n",
       "16        0.0           1288\n",
       "          1.0            102\n",
       "17        0.0           1020\n",
       "          1.0             88\n",
       "18        0.0           1609\n",
       "                        ... \n",
       "627       0.0              1\n",
       "628       0.0              3\n",
       "630       0.0              1\n",
       "631       0.0              1\n",
       "636       0.0              1\n",
       "638       0.0              1\n",
       "641       0.0              1\n",
       "643       0.0              2\n",
       "658       0.0              3\n",
       "670       0.0              1\n",
       "673       0.0              1\n",
       "674       0.0              2\n",
       "678       0.0              1\n",
       "679       0.0              1\n",
       "680       0.0              2\n",
       "692       0.0              1\n",
       "699       0.0              1\n",
       "704       1.0              2\n",
       "712       0.0              1\n",
       "768       0.0              1\n",
       "778       0.0              1\n",
       "790       0.0              2\n",
       "840       1.0              1\n",
       "886       1.0              1\n",
       "890       1.0              1\n",
       "1639      1.0              1\n",
       "2901      0.0              1\n",
       "3307      0.0              1\n",
       "4325      0.0              1\n",
       "7933      1.0              1\n",
       "dtype: int64"
      ]
     },
     "execution_count": 18,
     "metadata": {},
     "output_type": "execute_result"
    }
   ],
   "source": [
    "## Get the date\n",
    "cols = ['ticket_id', 'violation_code', 'late_fee', 'discount_amount', 'judgment_amount','compliance', \n",
    "        'ticket_issued_date', 'hearing_date']\n",
    "train = df[cols].copy()\n",
    "train = train[(train['compliance'] == 0) | (train['compliance'] == 1)]\n",
    "\n",
    "\n",
    "# Find the time_gap\n",
    "from datetime import datetime\n",
    "from pandas.tseries.offsets import DateOffset\n",
    "\n",
    "def time_gap(issued_date, hearing_date):\n",
    "    \n",
    "    if not hearing_date or type(hearing_date) != str:\n",
    "        return 73\n",
    "    ## 73 is the average day (72.6) from the issued_date to the hearing_date if hearing_date is available\n",
    "    \n",
    "    issued_timestamp = datetime.strptime(issued_date, '%Y-%m-%d %H:%M:%S')\n",
    "    hearing_timestamp = datetime.strptime(hearing_date, '%Y-%m-%d %H:%M:%S')\n",
    "    \n",
    "    if issued_timestamp > hearing_timestamp:\n",
    "        hearing_timestamp = hearing_timestamp + DateOffset(years = 1)\n",
    "    \n",
    "    time_gap = (hearing_timestamp - issued_timestamp).days\n",
    "    return time_gap\n",
    "\n",
    "train['time_gap'] = train.apply(lambda df: time_gap(df['ticket_issued_date'], df['hearing_date']), axis = 1)\n",
    "\n",
    "train.groupby(['time_gap', 'compliance']).size()"
   ]
  },
  {
   "cell_type": "code",
   "execution_count": 20,
   "metadata": {
    "collapsed": false
   },
   "outputs": [
    {
     "name": "stdout",
     "output_type": "stream",
     "text": [
      "Accuracy score of GB classifier on test set:  0.936152114086\n",
      "ROC-AUC score of GB classifier on test set:  0.801189156059\n"
     ]
    }
   ],
   "source": [
    "train.drop(['ticket_issued_date', 'hearing_date'], axis = 1, inplace = True)\n",
    "\n",
    "label_encoder = LabelEncoder()\n",
    "for col in train.columns[train.dtypes == \"object\"]:\n",
    "    train[col] = label_encoder.fit_transform(train[col])\n",
    "\n",
    "X = train.loc[:, ~train.columns.isin(['compliance'])]\n",
    "y = train.loc[:, 'compliance'].astype(int)\n",
    "\n",
    "\n",
    "## MODELLING\n",
    "X_train, X_test, y_train, y_test = train_test_split(X, y, random_state = 0)\n",
    "clf = GradientBoostingClassifier(learning_rate = 0.1, max_depth = 5)\n",
    "clf.fit(X_train, y_train)\n",
    "y_proba = clf.predict_proba(X_test)[:, 1]\n",
    "\n",
    "print('Accuracy score of GB classifier on test set: ', clf.score(X_test, y_test))\n",
    "print('ROC-AUC score of GB classifier on test set: ', roc_auc_score(y_test, y_proba))"
   ]
  },
  {
   "cell_type": "markdown",
   "metadata": {},
   "source": [
    "Alright, the ROC_AUC is a bit increased at approx 0.8 but it is not significantly improved than the model without the time_gap.\n",
    "\n",
    "Finally, let's try the model with the violation_zip_code. There is a consideration that some area might witness more violated maintenance and less fine compliances than others."
   ]
  },
  {
   "cell_type": "code",
   "execution_count": 51,
   "metadata": {
    "collapsed": false
   },
   "outputs": [
    {
     "name": "stdout",
     "output_type": "stream",
     "text": [
      "Accuracy score of GB classifier on test set:  0.935951963973\n",
      "ROC-AUC score of GB classifier on test set:  0.808552208581\n"
     ]
    }
   ],
   "source": [
    "train['zip_code'] = df[(df['compliance'] == 1) | (df['compliance'] == 0) ]['zip_code'].copy().astype(str)\n",
    "\n",
    "label_encoder = LabelEncoder()\n",
    "for col in train.columns[train.dtypes == \"object\"]:\n",
    "    train[col] = label_encoder.fit_transform(train[col])\n",
    "\n",
    "X = train.loc[:, ~train.columns.isin(['compliance'])]\n",
    "y = train.loc[:, 'compliance'].astype(int)\n",
    "\n",
    "\n",
    "## MODELLING\n",
    "X_train, X_test, y_train, y_test = train_test_split(X, y, random_state = 0)\n",
    "clf = GradientBoostingClassifier(learning_rate = 0.1, max_depth = 5)\n",
    "clf.fit(X_train, y_train)\n",
    "y_proba = clf.predict_proba(X_test)[:, 1]\n",
    "\n",
    "print('Accuracy score of GB classifier on test set: ', clf.score(X_test, y_test))\n",
    "print('ROC-AUC score of GB classifier on test set: ', roc_auc_score(y_test, y_proba))"
   ]
  },
  {
   "cell_type": "code",
   "execution_count": null,
   "metadata": {
    "collapsed": true
   },
   "outputs": [],
   "source": []
  }
 ],
 "metadata": {
  "kernelspec": {
   "display_name": "Python 3",
   "language": "python",
   "name": "python3"
  },
  "language_info": {
   "codemirror_mode": {
    "name": "ipython",
    "version": 3
   },
   "file_extension": ".py",
   "mimetype": "text/x-python",
   "name": "python",
   "nbconvert_exporter": "python",
   "pygments_lexer": "ipython3",
   "version": "3.6.2"
  }
 },
 "nbformat": 4,
 "nbformat_minor": 1
}
